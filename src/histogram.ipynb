{
 "cells": [
  {
   "cell_type": "code",
   "execution_count": null,
   "id": "f39aeff3",
   "metadata": {},
   "outputs": [
    {
     "name": "stdout",
     "output_type": "stream",
     "text": [
      "CSV file read successfully!\n"
     ]
    }
   ],
   "source": [
    "import matplotlib.pyplot as plt\n",
    "import numpy as np\n",
    "import pandas as pd\n",
    "\n",
    "try:\n",
    "    kmer_count_values = pd.read_csv('output.csv', header=None)\n",
    "    kmer_multiplicity = list(kmer_count_values[1].values)\n",
    "    print(\"CSV file read successfully!\")\n",
    "except Exception as e:\n",
    "    print(\"Error reading CSV file:\", e)\n",
    "\n",
    "plt.hist(kmer_multiplicity, bins = np.arange(np.min(kmer_multiplicity), np.max(kmer_multiplicity) + 1, 1))\n",
    "plt.ylabel(\"Count\")\n",
    "plt.xlabel(\"kmer_multiplicity\")\n",
    "plt.xlim(0,120)\n",
    "plt.savefig('histogram.jpg')\n",
    "plt.show()"
   ]
  }
 ],
 "metadata": {
  "kernelspec": {
   "display_name": "Python 3 (ipykernel)",
   "language": "python",
   "name": "python3"
  },
  "language_info": {
   "codemirror_mode": {
    "name": "ipython",
    "version": 3
   },
   "file_extension": ".py",
   "mimetype": "text/x-python",
   "name": "python",
   "nbconvert_exporter": "python",
   "pygments_lexer": "ipython3",
   "version": "3.8.5"
  }
 },
 "nbformat": 4,
 "nbformat_minor": 5
}
