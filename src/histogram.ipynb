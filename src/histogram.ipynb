{
 "cells": [
  {
   "cell_type": "code",
   "execution_count": null,
   "id": "76252e48-c035-4e05-bc6e-6013c93da63f",
   "metadata": {},
   "outputs": [],
   "source": [
    "import matplotlib.pyplot as plt\n",
    "import numpy as np\n",
    "import pandas as pd\n",
    "\n",
    "kmer_count_values = pd.read_csv('output.csv', header=None)\n",
    "\n",
    "kmer_multiplicity = list(kmer_count_values[1].values)\n",
    "\n",
    "plt.hist(kmer_multiplicity, bins = np.arange(np.min(kmer_multiplicity), np.max(kmer_multiplicity) + 1, 1))\n",
    "plt.ylabel(\"Count\")\n",
    "plt.xlabel(\"kmer_multiplicity\")\n",
    "plt.xlim(0, 130)\n",
    "plt.savefig('histogram.jpg')\n",
    "plt.show()"
   ]
  },
  {
   "cell_type": "code",
   "execution_count": null,
   "id": "fc27dfc8-d97c-44c9-a6d7-404030e984c6",
   "metadata": {},
   "outputs": [],
   "source": []
  }
 ],
 "metadata": {
  "kernelspec": {
   "display_name": "Python 3 (ipykernel)",
   "language": "python",
   "name": "python3"
  },
  "language_info": {
   "codemirror_mode": {
    "name": "ipython",
    "version": 3
   },
   "file_extension": ".py",
   "mimetype": "text/x-python",
   "name": "python",
   "nbconvert_exporter": "python",
   "pygments_lexer": "ipython3",
   "version": "3.10.12"
  }
 },
 "nbformat": 4,
 "nbformat_minor": 5
}
